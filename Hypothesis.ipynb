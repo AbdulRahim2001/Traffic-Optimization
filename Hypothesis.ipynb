{
 "cells": [
  {
   "cell_type": "code",
   "execution_count": 4,
   "id": "6744c415-fdd5-457b-902a-e35fd0292533",
   "metadata": {},
   "outputs": [
    {
     "name": "stdout",
     "output_type": "stream",
     "text": [
      "hello\n"
     ]
    }
   ],
   "source": [
    "print(\"hello\")"
   ]
  },
  {
   "cell_type": "code",
   "execution_count": 5,
   "id": "0ff02051-5ce1-4d58-9e73-bac2f8eec784",
   "metadata": {},
   "outputs": [],
   "source": [
    "import pandas as pd\n",
    "import numpy as np\n",
    "from scipy.stats import chi2_contingency, f_oneway, ttest_ind\n"
   ]
  },
  {
   "cell_type": "code",
   "execution_count": 6,
   "id": "e90a70e9-33f5-42fd-893e-2d29334ef1ab",
   "metadata": {},
   "outputs": [],
   "source": [
    "data = pd.read_csv(\"data/Motor_Vehicle_Collisions_with_KSI_Data_4326.csv\")"
   ]
  },
  {
   "cell_type": "code",
   "execution_count": 7,
   "id": "850312ff-214a-4a4a-9a71-e803ad14221d",
   "metadata": {},
   "outputs": [
    {
     "data": {
      "text/html": [
       "<div>\n",
       "<style scoped>\n",
       "    .dataframe tbody tr th:only-of-type {\n",
       "        vertical-align: middle;\n",
       "    }\n",
       "\n",
       "    .dataframe tbody tr th {\n",
       "        vertical-align: top;\n",
       "    }\n",
       "\n",
       "    .dataframe thead th {\n",
       "        text-align: right;\n",
       "    }\n",
       "</style>\n",
       "<table border=\"1\" class=\"dataframe\">\n",
       "  <thead>\n",
       "    <tr style=\"text-align: right;\">\n",
       "      <th></th>\n",
       "      <th>_id</th>\n",
       "      <th>ACCNUM</th>\n",
       "      <th>DATE</th>\n",
       "      <th>TIME</th>\n",
       "      <th>STREET1</th>\n",
       "      <th>STREET2</th>\n",
       "      <th>OFFSET</th>\n",
       "      <th>ROAD_CLASS</th>\n",
       "      <th>DISTRICT</th>\n",
       "      <th>ACCLOC</th>\n",
       "      <th>...</th>\n",
       "      <th>AG_DRIV</th>\n",
       "      <th>REDLIGHT</th>\n",
       "      <th>ALCOHOL</th>\n",
       "      <th>DISABILITY</th>\n",
       "      <th>HOOD_158</th>\n",
       "      <th>NEIGHBOURHOOD_158</th>\n",
       "      <th>HOOD_140</th>\n",
       "      <th>NEIGHBOURHOOD_140</th>\n",
       "      <th>DIVISION</th>\n",
       "      <th>geometry</th>\n",
       "    </tr>\n",
       "  </thead>\n",
       "  <tbody>\n",
       "    <tr>\n",
       "      <th>0</th>\n",
       "      <td>1</td>\n",
       "      <td>893184.0</td>\n",
       "      <td>2006-01-01</td>\n",
       "      <td>236</td>\n",
       "      <td>WOODBINE AVE</td>\n",
       "      <td>O CONNOR DR</td>\n",
       "      <td>NaN</td>\n",
       "      <td>Major Arterial</td>\n",
       "      <td>Toronto and East York</td>\n",
       "      <td>Intersection Related</td>\n",
       "      <td>...</td>\n",
       "      <td>Yes</td>\n",
       "      <td>NaN</td>\n",
       "      <td>Yes</td>\n",
       "      <td>NaN</td>\n",
       "      <td>60</td>\n",
       "      <td>Woodbine-Lumsden</td>\n",
       "      <td>60</td>\n",
       "      <td>Woodbine-Lumsden (60)</td>\n",
       "      <td>D55</td>\n",
       "      <td>{'type': 'MultiPoint', 'coordinates': [[-79.31...</td>\n",
       "    </tr>\n",
       "    <tr>\n",
       "      <th>1</th>\n",
       "      <td>2</td>\n",
       "      <td>893184.0</td>\n",
       "      <td>2006-01-01</td>\n",
       "      <td>236</td>\n",
       "      <td>WOODBINE AVE</td>\n",
       "      <td>O CONNOR DR</td>\n",
       "      <td>NaN</td>\n",
       "      <td>Major Arterial</td>\n",
       "      <td>Toronto and East York</td>\n",
       "      <td>Intersection Related</td>\n",
       "      <td>...</td>\n",
       "      <td>Yes</td>\n",
       "      <td>NaN</td>\n",
       "      <td>Yes</td>\n",
       "      <td>NaN</td>\n",
       "      <td>60</td>\n",
       "      <td>Woodbine-Lumsden</td>\n",
       "      <td>60</td>\n",
       "      <td>Woodbine-Lumsden (60)</td>\n",
       "      <td>D55</td>\n",
       "      <td>{'type': 'MultiPoint', 'coordinates': [[-79.31...</td>\n",
       "    </tr>\n",
       "    <tr>\n",
       "      <th>2</th>\n",
       "      <td>3</td>\n",
       "      <td>893184.0</td>\n",
       "      <td>2006-01-01</td>\n",
       "      <td>236</td>\n",
       "      <td>WOODBINE AVE</td>\n",
       "      <td>O CONNOR DR</td>\n",
       "      <td>NaN</td>\n",
       "      <td>Major Arterial</td>\n",
       "      <td>Toronto and East York</td>\n",
       "      <td>Intersection Related</td>\n",
       "      <td>...</td>\n",
       "      <td>Yes</td>\n",
       "      <td>NaN</td>\n",
       "      <td>Yes</td>\n",
       "      <td>NaN</td>\n",
       "      <td>60</td>\n",
       "      <td>Woodbine-Lumsden</td>\n",
       "      <td>60</td>\n",
       "      <td>Woodbine-Lumsden (60)</td>\n",
       "      <td>D55</td>\n",
       "      <td>{'type': 'MultiPoint', 'coordinates': [[-79.31...</td>\n",
       "    </tr>\n",
       "    <tr>\n",
       "      <th>3</th>\n",
       "      <td>4</td>\n",
       "      <td>893184.0</td>\n",
       "      <td>2006-01-01</td>\n",
       "      <td>236</td>\n",
       "      <td>WOODBINE AVE</td>\n",
       "      <td>O CONNOR DR</td>\n",
       "      <td>NaN</td>\n",
       "      <td>Major Arterial</td>\n",
       "      <td>Toronto and East York</td>\n",
       "      <td>Intersection Related</td>\n",
       "      <td>...</td>\n",
       "      <td>Yes</td>\n",
       "      <td>NaN</td>\n",
       "      <td>Yes</td>\n",
       "      <td>NaN</td>\n",
       "      <td>60</td>\n",
       "      <td>Woodbine-Lumsden</td>\n",
       "      <td>60</td>\n",
       "      <td>Woodbine-Lumsden (60)</td>\n",
       "      <td>D55</td>\n",
       "      <td>{'type': 'MultiPoint', 'coordinates': [[-79.31...</td>\n",
       "    </tr>\n",
       "    <tr>\n",
       "      <th>4</th>\n",
       "      <td>5</td>\n",
       "      <td>893184.0</td>\n",
       "      <td>2006-01-01</td>\n",
       "      <td>236</td>\n",
       "      <td>WOODBINE AVE</td>\n",
       "      <td>O CONNOR DR</td>\n",
       "      <td>NaN</td>\n",
       "      <td>Major Arterial</td>\n",
       "      <td>Toronto and East York</td>\n",
       "      <td>Intersection Related</td>\n",
       "      <td>...</td>\n",
       "      <td>Yes</td>\n",
       "      <td>NaN</td>\n",
       "      <td>Yes</td>\n",
       "      <td>NaN</td>\n",
       "      <td>60</td>\n",
       "      <td>Woodbine-Lumsden</td>\n",
       "      <td>60</td>\n",
       "      <td>Woodbine-Lumsden (60)</td>\n",
       "      <td>D55</td>\n",
       "      <td>{'type': 'MultiPoint', 'coordinates': [[-79.31...</td>\n",
       "    </tr>\n",
       "  </tbody>\n",
       "</table>\n",
       "<p>5 rows × 50 columns</p>\n",
       "</div>"
      ],
      "text/plain": [
       "   _id    ACCNUM        DATE  TIME       STREET1      STREET2 OFFSET  \\\n",
       "0    1  893184.0  2006-01-01   236  WOODBINE AVE  O CONNOR DR    NaN   \n",
       "1    2  893184.0  2006-01-01   236  WOODBINE AVE  O CONNOR DR    NaN   \n",
       "2    3  893184.0  2006-01-01   236  WOODBINE AVE  O CONNOR DR    NaN   \n",
       "3    4  893184.0  2006-01-01   236  WOODBINE AVE  O CONNOR DR    NaN   \n",
       "4    5  893184.0  2006-01-01   236  WOODBINE AVE  O CONNOR DR    NaN   \n",
       "\n",
       "       ROAD_CLASS               DISTRICT                ACCLOC  ... AG_DRIV  \\\n",
       "0  Major Arterial  Toronto and East York  Intersection Related  ...     Yes   \n",
       "1  Major Arterial  Toronto and East York  Intersection Related  ...     Yes   \n",
       "2  Major Arterial  Toronto and East York  Intersection Related  ...     Yes   \n",
       "3  Major Arterial  Toronto and East York  Intersection Related  ...     Yes   \n",
       "4  Major Arterial  Toronto and East York  Intersection Related  ...     Yes   \n",
       "\n",
       "  REDLIGHT ALCOHOL DISABILITY HOOD_158 NEIGHBOURHOOD_158 HOOD_140  \\\n",
       "0      NaN     Yes        NaN       60  Woodbine-Lumsden       60   \n",
       "1      NaN     Yes        NaN       60  Woodbine-Lumsden       60   \n",
       "2      NaN     Yes        NaN       60  Woodbine-Lumsden       60   \n",
       "3      NaN     Yes        NaN       60  Woodbine-Lumsden       60   \n",
       "4      NaN     Yes        NaN       60  Woodbine-Lumsden       60   \n",
       "\n",
       "       NEIGHBOURHOOD_140 DIVISION  \\\n",
       "0  Woodbine-Lumsden (60)      D55   \n",
       "1  Woodbine-Lumsden (60)      D55   \n",
       "2  Woodbine-Lumsden (60)      D55   \n",
       "3  Woodbine-Lumsden (60)      D55   \n",
       "4  Woodbine-Lumsden (60)      D55   \n",
       "\n",
       "                                            geometry  \n",
       "0  {'type': 'MultiPoint', 'coordinates': [[-79.31...  \n",
       "1  {'type': 'MultiPoint', 'coordinates': [[-79.31...  \n",
       "2  {'type': 'MultiPoint', 'coordinates': [[-79.31...  \n",
       "3  {'type': 'MultiPoint', 'coordinates': [[-79.31...  \n",
       "4  {'type': 'MultiPoint', 'coordinates': [[-79.31...  \n",
       "\n",
       "[5 rows x 50 columns]"
      ]
     },
     "execution_count": 7,
     "metadata": {},
     "output_type": "execute_result"
    }
   ],
   "source": [
    "data.head(5)"
   ]
  },
  {
   "cell_type": "code",
   "execution_count": 8,
   "id": "26ddaee3-f490-47f6-9bfc-5303df68ef33",
   "metadata": {},
   "outputs": [
    {
     "name": "stdout",
     "output_type": "stream",
     "text": [
      "\n",
      "Hypothesis 1: Chi-Square Test\n",
      "\n",
      "Chi-Square Statistic: 0.0\n",
      "P-Value: 1.0\n",
      "Result: Fail to reject the null hypothesis (no relationship found).\n"
     ]
    }
   ],
   "source": [
    "# Hypothesis 1: Chi-Square Test (Aggressive Driving vs. Alcohol Involvement)\n",
    "print(\"\\nHypothesis 1: Chi-Square Test\\n\")\n",
    "chi_data = data[['AG_DRIV', 'ALCOHOL']].dropna()\n",
    "cross_tab = pd.crosstab(chi_data['AG_DRIV'], chi_data['ALCOHOL'])\n",
    "chi2, p, dof, ex = chi2_contingency(cross_tab)\n",
    "print(f\"Chi-Square Statistic: {chi2}\")\n",
    "print(f\"P-Value: {p}\")\n",
    "if p < 0.05:\n",
    "    print(\"Result: Reject the null hypothesis (relationship exists between aggressive driving and alcohol involvement).\")\n",
    "else:\n",
    "    print(\"Result: Fail to reject the null hypothesis (no relationship found).\")"
   ]
  },
  {
   "cell_type": "code",
   "execution_count": 9,
   "id": "ecc0f553-32a1-4e09-8a61-62ce29dbce01",
   "metadata": {},
   "outputs": [
    {
     "name": "stdout",
     "output_type": "stream",
     "text": [
      "\n",
      "Hypothesis 3: T-Test\n",
      "\n",
      "T-Statistic: -0.8112491607966855\n",
      "P-Value: 0.4172660030316476\n",
      "Result: Fail to reject the null hypothesis (no significant difference in collision severity).\n"
     ]
    }
   ],
   "source": [
    "# Hypothesis 3: T-Test (Daytime vs. Nighttime Collision Severity)\n",
    "print(\"\\nHypothesis 3: T-Test\\n\")\n",
    "data['TIME'] = pd.to_numeric(data['TIME'], errors='coerce')\n",
    "data['Period'] = np.where((data['TIME'] >= 600) & (data['TIME'] <= 1800), 'Daytime', 'Nighttime')\n",
    "data = data.dropna(subset=['Period', 'ACCNUM'])\n",
    "daytime_data = data[data['Period'] == 'Daytime']['ACCNUM'].value_counts()\n",
    "nighttime_data = data[data['Period'] == 'Nighttime']['ACCNUM'].value_counts()\n",
    "t_stat, t_p = ttest_ind(daytime_data, nighttime_data, equal_var=False)\n",
    "print(f\"T-Statistic: {t_stat}\")\n",
    "print(f\"P-Value: {t_p}\")\n",
    "if t_p < 0.05:\n",
    "    print(\"Result: Reject the null hypothesis (collision severity differs between daytime and nighttime).\")\n",
    "else:\n",
    "    print(\"Result: Fail to reject the null hypothesis (no significant difference in collision severity).\")"
   ]
  },
  {
   "cell_type": "code",
   "execution_count": 11,
   "id": "dd0b922f-57be-462a-8240-46dd9bafa6e7",
   "metadata": {},
   "outputs": [
    {
     "data": {
      "text/plain": [
       "Index(['_id', 'ACCNUM', 'DATE', 'TIME', 'STREET1', 'STREET2', 'OFFSET',\n",
       "       'ROAD_CLASS', 'DISTRICT', 'ACCLOC', 'TRAFFCTL', 'VISIBILITY', 'LIGHT',\n",
       "       'RDSFCOND', 'ACCLASS', 'IMPACTYPE', 'INVTYPE', 'INVAGE', 'INJURY',\n",
       "       'FATAL_NO', 'INITDIR', 'VEHTYPE', 'MANOEUVER', 'DRIVACT', 'DRIVCOND',\n",
       "       'PEDTYPE', 'PEDACT', 'PEDCOND', 'CYCLISTYPE', 'CYCACT', 'CYCCOND',\n",
       "       'PEDESTRIAN', 'CYCLIST', 'AUTOMOBILE', 'MOTORCYCLE', 'TRUCK',\n",
       "       'TRSN_CITY_VEH', 'EMERG_VEH', 'PASSENGER', 'SPEEDING', 'AG_DRIV',\n",
       "       'REDLIGHT', 'ALCOHOL', 'DISABILITY', 'HOOD_158', 'NEIGHBOURHOOD_158',\n",
       "       'HOOD_140', 'NEIGHBOURHOOD_140', 'DIVISION', 'geometry', 'Period'],\n",
       "      dtype='object')"
      ]
     },
     "execution_count": 11,
     "metadata": {},
     "output_type": "execute_result"
    }
   ],
   "source": [
    "data.columns"
   ]
  },
  {
   "cell_type": "code",
   "execution_count": 9,
   "id": "c64e68a2-f20b-4ed5-a4ed-49f67001b3c0",
   "metadata": {},
   "outputs": [
    {
     "name": "stdout",
     "output_type": "stream",
     "text": [
      "Index(['_id', 'ACCNUM', 'DATE', 'TIME', 'STREET1', 'STREET2', 'OFFSET',\n",
      "       'ROAD_CLASS', 'DISTRICT', 'ACCLOC', 'TRAFFCTL', 'VISIBILITY', 'LIGHT',\n",
      "       'RDSFCOND', 'ACCLASS', 'IMPACTYPE', 'INVTYPE', 'INVAGE', 'INJURY',\n",
      "       'FATAL_NO', 'INITDIR', 'VEHTYPE', 'MANOEUVER', 'DRIVACT', 'DRIVCOND',\n",
      "       'PEDTYPE', 'PEDACT', 'PEDCOND', 'CYCLISTYPE', 'CYCACT', 'CYCCOND',\n",
      "       'PEDESTRIAN', 'CYCLIST', 'AUTOMOBILE', 'MOTORCYCLE', 'TRUCK',\n",
      "       'TRSN_CITY_VEH', 'EMERG_VEH', 'PASSENGER', 'SPEEDING', 'AG_DRIV',\n",
      "       'REDLIGHT', 'ALCOHOL', 'DISABILITY', 'HOOD_158', 'NEIGHBOURHOOD_158',\n",
      "       'HOOD_140', 'NEIGHBOURHOOD_140', 'DIVISION', 'geometry', 'Period'],\n",
      "      dtype='object')\n"
     ]
    }
   ],
   "source": [
    "print(data.columns)\n"
   ]
  },
  {
   "cell_type": "code",
   "execution_count": 18,
   "id": "0644eb4e-d429-499d-b73e-f6b865c942af",
   "metadata": {},
   "outputs": [
    {
     "name": "stdout",
     "output_type": "stream",
     "text": [
      "\n",
      "Hypothesis 2: ANOVA Test\n",
      "\n"
     ]
    }
   ],
   "source": [
    "# Difference in Collision Frequency Across Road Surface Conditions (RDSFCOND)\n",
    "print(\"\\nHypothesis 2: ANOVA Test\\n\")\n",
    "# Select relevant columns and drop missing values\n",
    "anova_data = data[['RDSFCOND', 'ACCNUM']].dropna()\n",
    "# Group collision counts by road surface conditions\n",
    "rdsfcond_groups = [\n",
    "    anova_data[anova_data['RDSFCOND'] == condition]['ACCNUM'].value_counts().values\n",
    "    for condition in anova_data['RDSFCOND'].unique()\n",
    "]\n",
    "\n",
    "# Filter groups with sufficient data\n",
    "rdsfcond_groups = [group for group in rdsfcond_groups if len(group) > 1]\n"
   ]
  },
  {
   "cell_type": "code",
   "execution_count": 19,
   "id": "96101f47-0560-4e0c-94fe-e35a1fe4134a",
   "metadata": {},
   "outputs": [
    {
     "name": "stdout",
     "output_type": "stream",
     "text": [
      "ANOVA Statistic: 1.4651857976364828\n",
      "P-Value: 0.1747978341926185\n",
      "Result: Fail to reject the null hypothesis. No significant difference in collision frequency.\n"
     ]
    }
   ],
   "source": [
    "\n",
    "# Perform ANOVA Test\n",
    "anova_stat, anova_p_value = f_oneway(*rdsfcond_groups)\n",
    "print(f\"ANOVA Statistic: {anova_stat}\")\n",
    "print(f\"P-Value: {anova_p_value}\")\n",
    "if anova_p_value < 0.05:\n",
    "    print(\"Result: Reject the null hypothesis. Collision frequency differs across road surface conditions.\")\n",
    "else:\n",
    "    print(\"Result: Fail to reject the null hypothesis. No significant difference in collision frequency.\")"
   ]
  },
  {
   "cell_type": "code",
   "execution_count": 1,
   "id": "71496f1c-bc7b-448c-8643-252baeec8972",
   "metadata": {},
   "outputs": [
    {
     "name": "stdout",
     "output_type": "stream",
     "text": [
      "ANOVA Statistic: 24.8\n",
      "P-Value: 0.00021804795624113076\n"
     ]
    }
   ],
   "source": [
    "from scipy.stats import f_oneway\n",
    "\n",
    "# Groups of accident frequencies for different road conditions\n",
    "dry = [30, 40, 35, 50]\n",
    "wet = [50, 60, 55, 70]\n",
    "icy = [70, 85, 80, 90]\n",
    "\n",
    "# One-Way ANOVA Test\n",
    "anova_stat, p_value = f_oneway(dry, wet, icy)\n",
    "\n",
    "print(\"ANOVA Statistic:\", anova_stat)\n",
    "print(\"P-Value:\", p_value)"
   ]
  },
  {
   "cell_type": "code",
   "execution_count": null,
   "id": "11917e91-8a8d-409b-afb1-8dcd777adf67",
   "metadata": {},
   "outputs": [],
   "source": []
  }
 ],
 "metadata": {
  "kernelspec": {
   "display_name": "Python 3 (ipykernel)",
   "language": "python",
   "name": "python3"
  },
  "language_info": {
   "codemirror_mode": {
    "name": "ipython",
    "version": 3
   },
   "file_extension": ".py",
   "mimetype": "text/x-python",
   "name": "python",
   "nbconvert_exporter": "python",
   "pygments_lexer": "ipython3",
   "version": "3.13.0"
  }
 },
 "nbformat": 4,
 "nbformat_minor": 5
}
