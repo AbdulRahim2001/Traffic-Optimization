{
 "cells": [
  {
   "cell_type": "code",
   "execution_count": 1,
   "id": "c5b28cc8-9ab8-47b5-9a87-f1f0154d3a18",
   "metadata": {},
   "outputs": [],
   "source": [
    "import pandas as pd\n",
    "from sklearn.model_selection import train_test_split, cross_val_score\n",
    "from sklearn.metrics import accuracy_score\n",
    "from sklearn.ensemble import RandomForestClassifier, GradientBoostingClassifier\n",
    "from sklearn.linear_model import LogisticRegression\n",
    "from sklearn.tree import DecisionTreeClassifier\n",
    "from sklearn.neighbors import KNeighborsClassifier\n",
    "from sklearn.svm import SVC\n",
    "from sklearn.preprocessing import StandardScaler\n",
    "import xgboost as xgb\n",
    "from sklearn.model_selection import GridSearchCV\n",
    "\n",
    "import warnings\n",
    "warnings.filterwarnings('ignore')"
   ]
  },
  {
   "cell_type": "code",
   "execution_count": 2,
   "id": "ac878ba9",
   "metadata": {},
   "outputs": [
    {
     "name": "stdout",
     "output_type": "stream",
     "text": [
      "Requirement already satisfied: xgboost in c:\\users\\user\\appdata\\local\\programs\\python\\python312\\lib\\site-packages (3.0.0)\n",
      "Requirement already satisfied: numpy in c:\\users\\user\\appdata\\local\\programs\\python\\python312\\lib\\site-packages (from xgboost) (2.2.4)\n",
      "Requirement already satisfied: scipy in c:\\users\\user\\appdata\\local\\programs\\python\\python312\\lib\\site-packages (from xgboost) (1.15.2)\n"
     ]
    },
    {
     "name": "stderr",
     "output_type": "stream",
     "text": [
      "\n",
      "[notice] A new release of pip is available: 23.2.1 -> 25.0.1\n",
      "[notice] To update, run: python.exe -m pip install --upgrade pip\n"
     ]
    }
   ],
   "source": [
    "!pip install xgboost"
   ]
  },
  {
   "cell_type": "code",
   "execution_count": 3,
   "id": "769f0537",
   "metadata": {},
   "outputs": [
    {
     "name": "stdout",
     "output_type": "stream",
     "text": [
      "Requirement already satisfied: scikit-learn in c:\\users\\user\\appdata\\local\\programs\\python\\python312\\lib\\site-packages (1.6.1)\n",
      "Requirement already satisfied: numpy>=1.19.5 in c:\\users\\user\\appdata\\local\\programs\\python\\python312\\lib\\site-packages (from scikit-learn) (2.2.4)\n",
      "Requirement already satisfied: scipy>=1.6.0 in c:\\users\\user\\appdata\\local\\programs\\python\\python312\\lib\\site-packages (from scikit-learn) (1.15.2)\n",
      "Requirement already satisfied: joblib>=1.2.0 in c:\\users\\user\\appdata\\local\\programs\\python\\python312\\lib\\site-packages (from scikit-learn) (1.4.2)\n",
      "Requirement already satisfied: threadpoolctl>=3.1.0 in c:\\users\\user\\appdata\\local\\programs\\python\\python312\\lib\\site-packages (from scikit-learn) (3.6.0)\n"
     ]
    },
    {
     "name": "stderr",
     "output_type": "stream",
     "text": [
      "\n",
      "[notice] A new release of pip is available: 23.2.1 -> 25.0.1\n",
      "[notice] To update, run: python.exe -m pip install --upgrade pip\n"
     ]
    }
   ],
   "source": [
    "!pip install scikit-learn"
   ]
  },
  {
   "cell_type": "code",
   "execution_count": null,
   "id": "744c9ff1-69ad-4a42-81e4-213d5943e058",
   "metadata": {},
   "outputs": [],
   "source": [
    "# Load dataset\n",
    "data = pd.read_csv('cleaned_data.csv')"
   ]
  },
  {
   "cell_type": "code",
   "execution_count": 5,
   "id": "b3988d54",
   "metadata": {},
   "outputs": [
    {
     "data": {
      "text/plain": [
       "18"
      ]
     },
     "execution_count": 5,
     "metadata": {},
     "output_type": "execute_result"
    }
   ],
   "source": [
    "# Load your data\n",
    "data = pd.read_csv('cleaned_data.csv')\n",
    "len(data.columns)"
   ]
  },
  {
   "cell_type": "code",
   "execution_count": 11,
   "id": "b8131fd4",
   "metadata": {},
   "outputs": [
    {
     "data": {
      "text/plain": [
       "Index(['ROAD_CLASS', 'DISTRICT', 'ACCLOC', 'TRAFFCTL', 'VISIBILITY', 'LIGHT',\n",
       "       'RDSFCOND', 'ACCLASS', 'IMPACTYPE', 'INVTYPE', 'INVAGE', 'INJURY',\n",
       "       'INITDIR', 'VEHTYPE', 'MANOEUVER', 'DRIVACT', 'DRIVCOND', 'DIVISION'],\n",
       "      dtype='object')"
      ]
     },
     "execution_count": 11,
     "metadata": {},
     "output_type": "execute_result"
    }
   ],
   "source": [
    "data.columns"
   ]
  },
  {
   "cell_type": "code",
   "execution_count": 7,
   "id": "85b505c6",
   "metadata": {},
   "outputs": [
    {
     "data": {
      "text/html": [
       "<div>\n",
       "<style scoped>\n",
       "    .dataframe tbody tr th:only-of-type {\n",
       "        vertical-align: middle;\n",
       "    }\n",
       "\n",
       "    .dataframe tbody tr th {\n",
       "        vertical-align: top;\n",
       "    }\n",
       "\n",
       "    .dataframe thead th {\n",
       "        text-align: right;\n",
       "    }\n",
       "</style>\n",
       "<table border=\"1\" class=\"dataframe\">\n",
       "  <thead>\n",
       "    <tr style=\"text-align: right;\">\n",
       "      <th></th>\n",
       "      <th>ROAD_CLASS</th>\n",
       "      <th>DISTRICT</th>\n",
       "      <th>ACCLOC</th>\n",
       "      <th>TRAFFCTL</th>\n",
       "      <th>VISIBILITY</th>\n",
       "      <th>LIGHT</th>\n",
       "      <th>RDSFCOND</th>\n",
       "      <th>ACCLASS</th>\n",
       "      <th>IMPACTYPE</th>\n",
       "      <th>INVTYPE</th>\n",
       "      <th>INVAGE</th>\n",
       "      <th>INJURY</th>\n",
       "      <th>INITDIR</th>\n",
       "      <th>VEHTYPE</th>\n",
       "      <th>MANOEUVER</th>\n",
       "      <th>DRIVACT</th>\n",
       "      <th>DRIVCOND</th>\n",
       "      <th>DIVISION</th>\n",
       "    </tr>\n",
       "  </thead>\n",
       "  <tbody>\n",
       "    <tr>\n",
       "      <th>0</th>\n",
       "      <td>Major Arterial</td>\n",
       "      <td>Toronto and East York</td>\n",
       "      <td>Intersection Related</td>\n",
       "      <td>No Control</td>\n",
       "      <td>Clear</td>\n",
       "      <td>Dark</td>\n",
       "      <td>Wet</td>\n",
       "      <td>Non-Fatal Injury</td>\n",
       "      <td>Approaching</td>\n",
       "      <td>Passenger</td>\n",
       "      <td>50 to 54</td>\n",
       "      <td>Major</td>\n",
       "      <td>East</td>\n",
       "      <td>Automobile, Station Wagon</td>\n",
       "      <td>Going Ahead</td>\n",
       "      <td>Driving Properly</td>\n",
       "      <td>Normal</td>\n",
       "      <td>D55</td>\n",
       "    </tr>\n",
       "    <tr>\n",
       "      <th>1</th>\n",
       "      <td>Major Arterial</td>\n",
       "      <td>Toronto and East York</td>\n",
       "      <td>Intersection Related</td>\n",
       "      <td>No Control</td>\n",
       "      <td>Clear</td>\n",
       "      <td>Dark</td>\n",
       "      <td>Wet</td>\n",
       "      <td>Non-Fatal Injury</td>\n",
       "      <td>Approaching</td>\n",
       "      <td>Passenger</td>\n",
       "      <td>15 to 19</td>\n",
       "      <td>Minor</td>\n",
       "      <td>East</td>\n",
       "      <td>Automobile, Station Wagon</td>\n",
       "      <td>Going Ahead</td>\n",
       "      <td>Driving Properly</td>\n",
       "      <td>Normal</td>\n",
       "      <td>D55</td>\n",
       "    </tr>\n",
       "    <tr>\n",
       "      <th>2</th>\n",
       "      <td>Major Arterial</td>\n",
       "      <td>Toronto and East York</td>\n",
       "      <td>Intersection Related</td>\n",
       "      <td>No Control</td>\n",
       "      <td>Clear</td>\n",
       "      <td>Dark</td>\n",
       "      <td>Wet</td>\n",
       "      <td>Non-Fatal Injury</td>\n",
       "      <td>Approaching</td>\n",
       "      <td>Driver</td>\n",
       "      <td>55 to 59</td>\n",
       "      <td>Minor</td>\n",
       "      <td>North</td>\n",
       "      <td>Automobile, Station Wagon</td>\n",
       "      <td>Going Ahead</td>\n",
       "      <td>Driving Properly</td>\n",
       "      <td>Normal</td>\n",
       "      <td>D55</td>\n",
       "    </tr>\n",
       "    <tr>\n",
       "      <th>3</th>\n",
       "      <td>Major Arterial</td>\n",
       "      <td>Toronto and East York</td>\n",
       "      <td>Intersection Related</td>\n",
       "      <td>No Control</td>\n",
       "      <td>Clear</td>\n",
       "      <td>Dark</td>\n",
       "      <td>Wet</td>\n",
       "      <td>Non-Fatal Injury</td>\n",
       "      <td>Approaching</td>\n",
       "      <td>Passenger</td>\n",
       "      <td>20 to 24</td>\n",
       "      <td>Minor</td>\n",
       "      <td>East</td>\n",
       "      <td>Automobile, Station Wagon</td>\n",
       "      <td>Going Ahead</td>\n",
       "      <td>Driving Properly</td>\n",
       "      <td>Normal</td>\n",
       "      <td>D55</td>\n",
       "    </tr>\n",
       "    <tr>\n",
       "      <th>4</th>\n",
       "      <td>Major Arterial</td>\n",
       "      <td>Toronto and East York</td>\n",
       "      <td>Intersection Related</td>\n",
       "      <td>No Control</td>\n",
       "      <td>Clear</td>\n",
       "      <td>Dark</td>\n",
       "      <td>Wet</td>\n",
       "      <td>Non-Fatal Injury</td>\n",
       "      <td>Approaching</td>\n",
       "      <td>Passenger</td>\n",
       "      <td>15 to 19</td>\n",
       "      <td>Minor</td>\n",
       "      <td>East</td>\n",
       "      <td>Automobile, Station Wagon</td>\n",
       "      <td>Going Ahead</td>\n",
       "      <td>Driving Properly</td>\n",
       "      <td>Normal</td>\n",
       "      <td>D55</td>\n",
       "    </tr>\n",
       "  </tbody>\n",
       "</table>\n",
       "</div>"
      ],
      "text/plain": [
       "       ROAD_CLASS               DISTRICT                ACCLOC    TRAFFCTL  \\\n",
       "0  Major Arterial  Toronto and East York  Intersection Related  No Control   \n",
       "1  Major Arterial  Toronto and East York  Intersection Related  No Control   \n",
       "2  Major Arterial  Toronto and East York  Intersection Related  No Control   \n",
       "3  Major Arterial  Toronto and East York  Intersection Related  No Control   \n",
       "4  Major Arterial  Toronto and East York  Intersection Related  No Control   \n",
       "\n",
       "  VISIBILITY LIGHT RDSFCOND           ACCLASS    IMPACTYPE    INVTYPE  \\\n",
       "0      Clear  Dark      Wet  Non-Fatal Injury  Approaching  Passenger   \n",
       "1      Clear  Dark      Wet  Non-Fatal Injury  Approaching  Passenger   \n",
       "2      Clear  Dark      Wet  Non-Fatal Injury  Approaching     Driver   \n",
       "3      Clear  Dark      Wet  Non-Fatal Injury  Approaching  Passenger   \n",
       "4      Clear  Dark      Wet  Non-Fatal Injury  Approaching  Passenger   \n",
       "\n",
       "     INVAGE INJURY INITDIR                    VEHTYPE    MANOEUVER  \\\n",
       "0  50 to 54  Major    East  Automobile, Station Wagon  Going Ahead   \n",
       "1  15 to 19  Minor    East  Automobile, Station Wagon  Going Ahead   \n",
       "2  55 to 59  Minor   North  Automobile, Station Wagon  Going Ahead   \n",
       "3  20 to 24  Minor    East  Automobile, Station Wagon  Going Ahead   \n",
       "4  15 to 19  Minor    East  Automobile, Station Wagon  Going Ahead   \n",
       "\n",
       "            DRIVACT DRIVCOND DIVISION  \n",
       "0  Driving Properly   Normal      D55  \n",
       "1  Driving Properly   Normal      D55  \n",
       "2  Driving Properly   Normal      D55  \n",
       "3  Driving Properly   Normal      D55  \n",
       "4  Driving Properly   Normal      D55  "
      ]
     },
     "execution_count": 7,
     "metadata": {},
     "output_type": "execute_result"
    }
   ],
   "source": [
    "data.head()"
   ]
  },
  {
   "cell_type": "code",
   "execution_count": 8,
   "id": "a9609e7a",
   "metadata": {},
   "outputs": [
    {
     "data": {
      "text/plain": [
       "array(['Clear', 'Snow', 'Other', 'Rain', 'Strong wind',\n",
       "       'Fog, Mist, Smoke, Dust', 'Drifting Snow', 'Freezing Rain'],\n",
       "      dtype=object)"
      ]
     },
     "execution_count": 8,
     "metadata": {},
     "output_type": "execute_result"
    }
   ],
   "source": [
    "data['VISIBILITY'].unique()"
   ]
  },
  {
   "cell_type": "code",
   "execution_count": 9,
   "id": "f8edcb96",
   "metadata": {},
   "outputs": [
    {
     "data": {
      "text/plain": [
       "Index(['ROAD_CLASS', 'DISTRICT', 'ACCLOC', 'TRAFFCTL', 'VISIBILITY', 'LIGHT',\n",
       "       'RDSFCOND', 'ACCLASS', 'IMPACTYPE', 'INVTYPE', 'INVAGE', 'INJURY',\n",
       "       'INITDIR', 'VEHTYPE', 'MANOEUVER', 'DRIVACT', 'DRIVCOND', 'DIVISION'],\n",
       "      dtype='object')"
      ]
     },
     "execution_count": 9,
     "metadata": {},
     "output_type": "execute_result"
    }
   ],
   "source": [
    "data.columns"
   ]
  },
  {
   "cell_type": "code",
   "execution_count": 10,
   "id": "af74fbee",
   "metadata": {},
   "outputs": [],
   "source": [
    "# HAVING ALL CATEGORICAL DATA IN ONE LIST \n",
    "categorical_columns = data.select_dtypes(include='object').columns.tolist()"
   ]
  },
  {
   "cell_type": "markdown",
   "id": "82be6969",
   "metadata": {},
   "source": [
    "### **Final Encoding Plan**\n",
    "#### **1. Ordinal Encoding (for ordered categories)**\n",
    "- **INJURY (Target Variable)**\n",
    "  - Minimal → 0\n",
    "  - Minor → 1\n",
    "  - Major → 2\n",
    "  - Fatal → 3  \n",
    "- **INVAGE** (Ordered age groups)\n",
    "- **LIGHT** (Ordered by brightness level: Daylight < Dawn/Dusk < Dark)\n",
    "\n",
    "#### **2. One-Hot Encoding (for categories with ≤ 4 unique values)**\n",
    "- **DISTRICT** (4 unique values)\n",
    "  - `Toronto and East York`, `North York`, `Scarborough`, `Etobicoke York`  \n",
    "- **ACCLASS** (3 unique values)\n",
    "  - `Non-Fatal Injury`, `Fatal`, `Property Damage O`  \n",
    "- **INITDIR** (5 unique values → Need to switch to Frequency Encoding)\n",
    "\n",
    "#### **3. Frequency Encoding (for categories with > 4 unique values)**\n",
    "- **ROAD_CLASS (11 values)**\n",
    "- **ACCLOC (10 values)**\n",
    "- **TRAFFCTL (10 values)**\n",
    "- **VISIBILITY (8 values)**\n",
    "- **RDSFCOND (9 values)**\n",
    "- **IMPACTYPE (10 values)**\n",
    "- **INVTYPE (18 values)**\n",
    "- **INITDIR (5 values)**\n",
    "- **VEHTYPE (33 values)**\n",
    "- **MANOEUVER (15 values)**\n",
    "- **DRIVACT (13 values)**\n",
    "- **DRIVCOND (10 values)**\n",
    "- **DIVISION (17 values)**\n",
    "\n",
    "---\n",
    "\n",
    "### **Why This Works Well**\n",
    "1. **Reduces High-Dimensional Data:** Instead of creating many one-hot columns, frequency encoding keeps data compact.\n",
    "2. **Avoids Overfitting:** High-cardinality categorical variables won’t cause excessive feature explosion.\n",
    "3. **Retains Interpretability:** Frequency values still reflect category importance."
   ]
  },
  {
   "cell_type": "code",
   "execution_count": 12,
   "id": "a1c3de45",
   "metadata": {},
   "outputs": [
    {
     "data": {
      "text/html": [
       "<div>\n",
       "<style scoped>\n",
       "    .dataframe tbody tr th:only-of-type {\n",
       "        vertical-align: middle;\n",
       "    }\n",
       "\n",
       "    .dataframe tbody tr th {\n",
       "        vertical-align: top;\n",
       "    }\n",
       "\n",
       "    .dataframe thead th {\n",
       "        text-align: right;\n",
       "    }\n",
       "</style>\n",
       "<table border=\"1\" class=\"dataframe\">\n",
       "  <thead>\n",
       "    <tr style=\"text-align: right;\">\n",
       "      <th></th>\n",
       "      <th>ROAD_CLASS</th>\n",
       "      <th>ACCLOC</th>\n",
       "      <th>TRAFFCTL</th>\n",
       "      <th>VISIBILITY</th>\n",
       "      <th>LIGHT</th>\n",
       "      <th>RDSFCOND</th>\n",
       "      <th>IMPACTYPE</th>\n",
       "      <th>INVTYPE</th>\n",
       "      <th>INVAGE</th>\n",
       "      <th>INJURY</th>\n",
       "      <th>...</th>\n",
       "      <th>VEHTYPE</th>\n",
       "      <th>MANOEUVER</th>\n",
       "      <th>DRIVACT</th>\n",
       "      <th>DRIVCOND</th>\n",
       "      <th>DIVISION</th>\n",
       "      <th>DISTRICT_North York</th>\n",
       "      <th>DISTRICT_Scarborough</th>\n",
       "      <th>DISTRICT_Toronto and East York</th>\n",
       "      <th>ACCLASS_Non-Fatal Injury</th>\n",
       "      <th>ACCLASS_Property Damage O</th>\n",
       "    </tr>\n",
       "  </thead>\n",
       "  <tbody>\n",
       "    <tr>\n",
       "      <th>0</th>\n",
       "      <td>13862</td>\n",
       "      <td>1604</td>\n",
       "      <td>9096</td>\n",
       "      <td>16397</td>\n",
       "      <td>3746</td>\n",
       "      <td>3140</td>\n",
       "      <td>959</td>\n",
       "      <td>2889</td>\n",
       "      <td>52.0</td>\n",
       "      <td>Major</td>\n",
       "      <td>...</td>\n",
       "      <td>11292</td>\n",
       "      <td>14495</td>\n",
       "      <td>13714</td>\n",
       "      <td>15449</td>\n",
       "      <td>1530</td>\n",
       "      <td>False</td>\n",
       "      <td>False</td>\n",
       "      <td>True</td>\n",
       "      <td>True</td>\n",
       "      <td>False</td>\n",
       "    </tr>\n",
       "    <tr>\n",
       "      <th>1</th>\n",
       "      <td>13862</td>\n",
       "      <td>1604</td>\n",
       "      <td>9096</td>\n",
       "      <td>16397</td>\n",
       "      <td>3746</td>\n",
       "      <td>3140</td>\n",
       "      <td>959</td>\n",
       "      <td>2889</td>\n",
       "      <td>17.0</td>\n",
       "      <td>Minor</td>\n",
       "      <td>...</td>\n",
       "      <td>11292</td>\n",
       "      <td>14495</td>\n",
       "      <td>13714</td>\n",
       "      <td>15449</td>\n",
       "      <td>1530</td>\n",
       "      <td>False</td>\n",
       "      <td>False</td>\n",
       "      <td>True</td>\n",
       "      <td>True</td>\n",
       "      <td>False</td>\n",
       "    </tr>\n",
       "    <tr>\n",
       "      <th>2</th>\n",
       "      <td>13862</td>\n",
       "      <td>1604</td>\n",
       "      <td>9096</td>\n",
       "      <td>16397</td>\n",
       "      <td>3746</td>\n",
       "      <td>3140</td>\n",
       "      <td>959</td>\n",
       "      <td>8667</td>\n",
       "      <td>57.0</td>\n",
       "      <td>Minor</td>\n",
       "      <td>...</td>\n",
       "      <td>11292</td>\n",
       "      <td>14495</td>\n",
       "      <td>13714</td>\n",
       "      <td>15449</td>\n",
       "      <td>1530</td>\n",
       "      <td>False</td>\n",
       "      <td>False</td>\n",
       "      <td>True</td>\n",
       "      <td>True</td>\n",
       "      <td>False</td>\n",
       "    </tr>\n",
       "    <tr>\n",
       "      <th>3</th>\n",
       "      <td>13862</td>\n",
       "      <td>1604</td>\n",
       "      <td>9096</td>\n",
       "      <td>16397</td>\n",
       "      <td>3746</td>\n",
       "      <td>3140</td>\n",
       "      <td>959</td>\n",
       "      <td>2889</td>\n",
       "      <td>22.0</td>\n",
       "      <td>Minor</td>\n",
       "      <td>...</td>\n",
       "      <td>11292</td>\n",
       "      <td>14495</td>\n",
       "      <td>13714</td>\n",
       "      <td>15449</td>\n",
       "      <td>1530</td>\n",
       "      <td>False</td>\n",
       "      <td>False</td>\n",
       "      <td>True</td>\n",
       "      <td>True</td>\n",
       "      <td>False</td>\n",
       "    </tr>\n",
       "    <tr>\n",
       "      <th>4</th>\n",
       "      <td>13862</td>\n",
       "      <td>1604</td>\n",
       "      <td>9096</td>\n",
       "      <td>16397</td>\n",
       "      <td>3746</td>\n",
       "      <td>3140</td>\n",
       "      <td>959</td>\n",
       "      <td>2889</td>\n",
       "      <td>17.0</td>\n",
       "      <td>Minor</td>\n",
       "      <td>...</td>\n",
       "      <td>11292</td>\n",
       "      <td>14495</td>\n",
       "      <td>13714</td>\n",
       "      <td>15449</td>\n",
       "      <td>1530</td>\n",
       "      <td>False</td>\n",
       "      <td>False</td>\n",
       "      <td>True</td>\n",
       "      <td>True</td>\n",
       "      <td>False</td>\n",
       "    </tr>\n",
       "  </tbody>\n",
       "</table>\n",
       "<p>5 rows × 21 columns</p>\n",
       "</div>"
      ],
      "text/plain": [
       "   ROAD_CLASS  ACCLOC  TRAFFCTL  VISIBILITY  LIGHT  RDSFCOND  IMPACTYPE  \\\n",
       "0       13862    1604      9096       16397   3746      3140        959   \n",
       "1       13862    1604      9096       16397   3746      3140        959   \n",
       "2       13862    1604      9096       16397   3746      3140        959   \n",
       "3       13862    1604      9096       16397   3746      3140        959   \n",
       "4       13862    1604      9096       16397   3746      3140        959   \n",
       "\n",
       "   INVTYPE  INVAGE INJURY  ...  VEHTYPE  MANOEUVER  DRIVACT  DRIVCOND  \\\n",
       "0     2889    52.0  Major  ...    11292      14495    13714     15449   \n",
       "1     2889    17.0  Minor  ...    11292      14495    13714     15449   \n",
       "2     8667    57.0  Minor  ...    11292      14495    13714     15449   \n",
       "3     2889    22.0  Minor  ...    11292      14495    13714     15449   \n",
       "4     2889    17.0  Minor  ...    11292      14495    13714     15449   \n",
       "\n",
       "   DIVISION  DISTRICT_North York  DISTRICT_Scarborough  \\\n",
       "0      1530                False                 False   \n",
       "1      1530                False                 False   \n",
       "2      1530                False                 False   \n",
       "3      1530                False                 False   \n",
       "4      1530                False                 False   \n",
       "\n",
       "   DISTRICT_Toronto and East York  ACCLASS_Non-Fatal Injury  \\\n",
       "0                            True                      True   \n",
       "1                            True                      True   \n",
       "2                            True                      True   \n",
       "3                            True                      True   \n",
       "4                            True                      True   \n",
       "\n",
       "   ACCLASS_Property Damage O  \n",
       "0                      False  \n",
       "1                      False  \n",
       "2                      False  \n",
       "3                      False  \n",
       "4                      False  \n",
       "\n",
       "[5 rows x 21 columns]"
      ]
     },
     "execution_count": 12,
     "metadata": {},
     "output_type": "execute_result"
    }
   ],
   "source": [
    " \n",
    "\n",
    "# A function to convert age ranges to midpoints\n",
    "def age_to_midpoint(age_range):\n",
    "    if age_range == \"unknown\":\n",
    "        return None  # We'll fill missing values later\n",
    "    elif age_range == \"Over 95\":\n",
    "        return 97  \n",
    "    else:\n",
    "        start, end = map(int, age_range.split(\" to \"))\n",
    "        return (start + end) / 2\n",
    "\n",
    "# Apply the function to the INVAGE column\n",
    "data[\"INVAGE\"] = data[\"INVAGE\"].apply(age_to_midpoint)\n",
    "\n",
    "# Fill missing values with the median age\n",
    "data[\"INVAGE\"].fillna(data[\"INVAGE\"].median(), inplace=True)\n",
    "\n",
    "\n",
    "# Columns to one-hot encode (4 or fewer unique values)\n",
    "one_hot_cols = [\"DISTRICT\", \"ACCLASS\"]\n",
    "\n",
    "# Apply one-hot encoding\n",
    "data = pd.get_dummies(data, columns=one_hot_cols, drop_first=True)  # Drop first to avoid multicollinearity\n",
    "\n",
    "# Columns to use frequency encoding (more than 4 unique values)\n",
    "freq_cols = [\n",
    "    \"ROAD_CLASS\", \"ACCLOC\", \"TRAFFCTL\", \"VISIBILITY\", \"LIGHT\", \"RDSFCOND\", \n",
    "    \"IMPACTYPE\", \"INVTYPE\", \"INITDIR\", \"VEHTYPE\", \"MANOEUVER\",\n",
    "    \"DRIVACT\", \"DRIVCOND\", \"DIVISION\"\n",
    "]\n",
    "\n",
    "# Apply frequency encoding\n",
    "for col in freq_cols:\n",
    "    freq_map = data[col].value_counts()  # Get frequency of each category\n",
    "    data[col] = data[col].map(freq_map)\n",
    "\n",
    "# Display the first few rows\n",
    "data.head()\n"
   ]
  },
  {
   "cell_type": "code",
   "execution_count": 19,
   "id": "c5d14eea",
   "metadata": {},
   "outputs": [
    {
     "data": {
      "text/plain": [
       "array([13862,  2958,  1032,   865,    25,     7,    11,   164,    14,\n",
       "          13,     6])"
      ]
     },
     "execution_count": 19,
     "metadata": {},
     "output_type": "execute_result"
    }
   ],
   "source": [
    "data['ROAD_CLASS'].unique()"
   ]
  },
  {
   "cell_type": "code",
   "execution_count": 20,
   "id": "3e418a35",
   "metadata": {},
   "outputs": [
    {
     "data": {
      "text/plain": [
       "array([13862,  2958,  1032,   865,    25,     7,    11,   164,    14,\n",
       "          13,     6])"
      ]
     },
     "execution_count": 20,
     "metadata": {},
     "output_type": "execute_result"
    }
   ],
   "source": [
    "data['ROAD_CLASS'].unique()"
   ]
  },
  {
   "cell_type": "code",
   "execution_count": 21,
   "id": "fff9b226",
   "metadata": {},
   "outputs": [
    {
     "data": {
      "text/plain": [
       "Index(['ROAD_CLASS', 'ACCLOC', 'TRAFFCTL', 'VISIBILITY', 'LIGHT', 'RDSFCOND',\n",
       "       'IMPACTYPE', 'INVTYPE', 'INVAGE', 'INJURY', 'INITDIR', 'VEHTYPE',\n",
       "       'MANOEUVER', 'DRIVACT', 'DRIVCOND', 'DIVISION', 'DISTRICT_North York',\n",
       "       'DISTRICT_Scarborough', 'DISTRICT_Toronto and East York',\n",
       "       'ACCLASS_Non-Fatal Injury', 'ACCLASS_Property Damage O'],\n",
       "      dtype='object')"
      ]
     },
     "execution_count": 21,
     "metadata": {},
     "output_type": "execute_result"
    }
   ],
   "source": [
    "data.columns"
   ]
  },
  {
   "cell_type": "code",
   "execution_count": 22,
   "id": "dfca8845",
   "metadata": {},
   "outputs": [
    {
     "data": {
      "text/plain": [
       "21"
      ]
     },
     "execution_count": 22,
     "metadata": {},
     "output_type": "execute_result"
    }
   ],
   "source": [
    "len(data.columns)"
   ]
  },
  {
   "cell_type": "markdown",
   "id": "53ec2e85",
   "metadata": {},
   "source": [
    "The True/False columns are from one-hot encoding, where categorical values were converted into binary (0/1) indicators. These can be used in machine learning models because:\n",
    "\n",
    "- Most ML models handle binary (0/1) values well (e.g., decision trees, logistic regression, XGBoost).\n",
    "- No additional encoding is needed—models treat True as 1 and False as 0."
   ]
  },
  {
   "cell_type": "code",
   "execution_count": 23,
   "id": "9091df34",
   "metadata": {},
   "outputs": [],
   "source": [
    "df = data.copy()"
   ]
  },
  {
   "cell_type": "markdown",
   "id": "2de83f76",
   "metadata": {},
   "source": [
    "## Feature Selection"
   ]
  },
  {
   "cell_type": "markdown",
   "id": "df9050be",
   "metadata": {},
   "source": [
    "#### 1. Low-Variance Method"
   ]
  },
  {
   "cell_type": "code",
   "execution_count": 16,
   "id": "e821981c",
   "metadata": {},
   "outputs": [
    {
     "ename": "NameError",
     "evalue": "name 'df' is not defined",
     "output_type": "error",
     "traceback": [
      "\u001b[1;31m---------------------------------------------------------------------------\u001b[0m",
      "\u001b[1;31mNameError\u001b[0m                                 Traceback (most recent call last)",
      "Cell \u001b[1;32mIn[16], line 2\u001b[0m\n\u001b[0;32m      1\u001b[0m \u001b[38;5;66;03m# Compute variance for each feature\u001b[39;00m\n\u001b[1;32m----> 2\u001b[0m variance \u001b[38;5;241m=\u001b[39m \u001b[43mdf\u001b[49m\u001b[38;5;241m.\u001b[39mvar()\u001b[38;5;241m.\u001b[39msort_values(ascending\u001b[38;5;241m=\u001b[39m\u001b[38;5;28;01mFalse\u001b[39;00m)\n\u001b[0;32m      4\u001b[0m \u001b[38;5;66;03m# Display variance values\u001b[39;00m\n\u001b[0;32m      5\u001b[0m \u001b[38;5;28mprint\u001b[39m(variance)\n",
      "\u001b[1;31mNameError\u001b[0m: name 'df' is not defined"
     ]
    }
   ],
   "source": [
    "# Compute variance for each feature\n",
    "variance = df.var().sort_values(ascending=False)\n",
    "\n",
    "# Display variance values\n",
    "print(variance)\n"
   ]
  },
  {
   "cell_type": "code",
   "execution_count": 14,
   "id": "9d42ffa2",
   "metadata": {},
   "outputs": [
    {
     "name": "stdout",
     "output_type": "stream",
     "text": [
      "Requirement already satisfied: seaborn in c:\\users\\user\\appdata\\local\\programs\\python\\python312\\lib\\site-packages (0.13.2)\n",
      "Requirement already satisfied: numpy!=1.24.0,>=1.20 in c:\\users\\user\\appdata\\local\\programs\\python\\python312\\lib\\site-packages (from seaborn) (2.2.4)\n",
      "Requirement already satisfied: pandas>=1.2 in c:\\users\\user\\appdata\\local\\programs\\python\\python312\\lib\\site-packages (from seaborn) (2.2.3)\n",
      "Requirement already satisfied: matplotlib!=3.6.1,>=3.4 in c:\\users\\user\\appdata\\local\\programs\\python\\python312\\lib\\site-packages (from seaborn) (3.10.1)\n",
      "Requirement already satisfied: contourpy>=1.0.1 in c:\\users\\user\\appdata\\local\\programs\\python\\python312\\lib\\site-packages (from matplotlib!=3.6.1,>=3.4->seaborn) (1.3.1)\n",
      "Requirement already satisfied: cycler>=0.10 in c:\\users\\user\\appdata\\local\\programs\\python\\python312\\lib\\site-packages (from matplotlib!=3.6.1,>=3.4->seaborn) (0.12.1)\n",
      "Requirement already satisfied: fonttools>=4.22.0 in c:\\users\\user\\appdata\\local\\programs\\python\\python312\\lib\\site-packages (from matplotlib!=3.6.1,>=3.4->seaborn) (4.56.0)\n",
      "Requirement already satisfied: kiwisolver>=1.3.1 in c:\\users\\user\\appdata\\local\\programs\\python\\python312\\lib\\site-packages (from matplotlib!=3.6.1,>=3.4->seaborn) (1.4.8)\n",
      "Requirement already satisfied: packaging>=20.0 in c:\\users\\user\\appdata\\roaming\\python\\python312\\site-packages (from matplotlib!=3.6.1,>=3.4->seaborn) (24.1)\n",
      "Requirement already satisfied: pillow>=8 in c:\\users\\user\\appdata\\local\\programs\\python\\python312\\lib\\site-packages (from matplotlib!=3.6.1,>=3.4->seaborn) (11.1.0)\n",
      "Requirement already satisfied: pyparsing>=2.3.1 in c:\\users\\user\\appdata\\local\\programs\\python\\python312\\lib\\site-packages (from matplotlib!=3.6.1,>=3.4->seaborn) (3.2.2)\n",
      "Requirement already satisfied: python-dateutil>=2.7 in c:\\users\\user\\appdata\\roaming\\python\\python312\\site-packages (from matplotlib!=3.6.1,>=3.4->seaborn) (2.9.0.post0)\n",
      "Requirement already satisfied: pytz>=2020.1 in c:\\users\\user\\appdata\\local\\programs\\python\\python312\\lib\\site-packages (from pandas>=1.2->seaborn) (2025.1)\n",
      "Requirement already satisfied: tzdata>=2022.7 in c:\\users\\user\\appdata\\local\\programs\\python\\python312\\lib\\site-packages (from pandas>=1.2->seaborn) (2025.2)\n",
      "Requirement already satisfied: six>=1.5 in c:\\users\\user\\appdata\\roaming\\python\\python312\\site-packages (from python-dateutil>=2.7->matplotlib!=3.6.1,>=3.4->seaborn) (1.16.0)\n"
     ]
    },
    {
     "name": "stderr",
     "output_type": "stream",
     "text": [
      "\n",
      "[notice] A new release of pip is available: 23.2.1 -> 25.0.1\n",
      "[notice] To update, run: python.exe -m pip install --upgrade pip\n"
     ]
    }
   ],
   "source": [
    "!pip install seaborn"
   ]
  },
  {
   "cell_type": "markdown",
   "id": "066962ad",
   "metadata": {},
   "source": [
    "#### 2. Correlation Analysis (Show Highly Correlated Features)"
   ]
  },
  {
   "cell_type": "code",
   "execution_count": null,
   "id": "f393d58a",
   "metadata": {},
   "outputs": [],
   "source": [
    "import seaborn as sns\n",
    "import matplotlib.pyplot as plt\n",
    "\n",
    "df = pd.read_csv('cleaned_data.csv')\n",
    "\n",
    "# Compute correlation matrix\n",
    "corr_matrix = df.corr()\n",
    "\n",
    "# Identify feature pairs with high correlation (above 0.85)\n",
    "correlation_threshold = 0.85\n",
    "corr_pairs = corr_matrix.abs().unstack().sort_values(kind=\"quicksort\", ascending=False)\n",
    "\n",
    "# Filter out self-correlations (where feature1 == feature2)\n",
    "high_corr_pairs = [(f1, f2, corr) for (f1, f2), corr in corr_pairs.items() if f1 != f2 and corr > correlation_threshold]\n",
    "\n",
    "# Display high-correlation feature pairs\n",
    "print(\"\\nHighly Correlated Feature Pairs (Threshold > 0.85):\")\n",
    "for f1, f2, corr in high_corr_pairs:\n",
    "    print(f\"{f1} - {f2}: {corr:.2f}\")\n",
    "\n",
    "# Plot heatmap\n",
    "plt.figure(figsize=(12, 8))\n",
    "sns.heatmap(corr_matrix, annot=True, cmap=\"coolwarm\", fmt=\".2f\")\n",
    "plt.title(\"Feature Correlation Heatmap\")\n",
    "plt.show()\n"
   ]
  },
  {
   "cell_type": "markdown",
   "id": "48938520",
   "metadata": {},
   "source": [
    "#### 3. Mutual Information (MI) Scores\n",
    "What is MI?\n",
    "\n",
    "MI measures how much knowing one variable (a feature) reduces uncertainty about another variable (the target, INJURY).\n",
    "\n",
    "Unlike correlation, MI can capture nonlinear relationships between features and the target.\n",
    "\n",
    "How it works\n",
    "Each feature is compared against INJURY.\n",
    "\n",
    "MI assigns a score (higher means more useful for prediction).\n",
    "\n",
    "No negative values:\n",
    "\n",
    "0 means no relationship between feature and target.\n",
    "\n",
    "Higher scores mean strong influence on INJURY."
   ]
  },
  {
   "cell_type": "code",
   "execution_count": 27,
   "id": "439bc1cd",
   "metadata": {},
   "outputs": [
    {
     "name": "stdout",
     "output_type": "stream",
     "text": [
      "\n",
      "Mutual Information Scores for Each Feature:\n",
      "ACCLASS_Non-Fatal Injury          0.111816\n",
      "INVTYPE                           0.081808\n",
      "IMPACTYPE                         0.056368\n",
      "INVAGE                            0.026585\n",
      "VEHTYPE                           0.018130\n",
      "DRIVACT                           0.015612\n",
      "MANOEUVER                         0.013328\n",
      "DRIVCOND                          0.011699\n",
      "INITDIR                           0.010451\n",
      "DIVISION                          0.009945\n",
      "ACCLOC                            0.007004\n",
      "TRAFFCTL                          0.005944\n",
      "DISTRICT_Toronto and East York    0.004700\n",
      "RDSFCOND                          0.004254\n",
      "DISTRICT_North York               0.002169\n",
      "LIGHT                             0.001982\n",
      "VISIBILITY                        0.001103\n",
      "ROAD_CLASS                        0.000748\n",
      "DISTRICT_Scarborough              0.000000\n",
      "ACCLASS_Property Damage O         0.000000\n",
      "dtype: float64\n"
     ]
    },
    {
     "data": {
      "image/png": "[encoded data removed]",
      "text/plain": [
       "<Figure size 1200x600 with 1 Axes>"
      ]
     },
     "metadata": {},
     "output_type": "display_data"
    }
   ],
   "source": [
    "from sklearn.feature_selection import mutual_info_classif\n",
    "\n",
    "# Compute MI scores\n",
    "mi_scores = mutual_info_classif(df.drop(columns=[\"INJURY\"]), df[\"INJURY\"])\n",
    "\n",
    "# Store scores in a pandas series\n",
    "mi_series = pd.Series(mi_scores, index=df.drop(columns=[\"INJURY\"]).columns).sort_values(ascending=False)\n",
    "\n",
    "# Display MI scores\n",
    "print(\"\\nMutual Information Scores for Each Feature:\")\n",
    "print(mi_series)\n",
    "\n",
    "# Plot MI scores\n",
    "plt.figure(figsize=(12, 6))\n",
    "mi_series.plot(kind='barh', title=\"Mutual Information Scores\")\n",
    "plt.xlabel(\"MI Score\")\n",
    "plt.ylabel(\"Feature Name\")\n",
    "plt.show()"
   ]
  },
  {
   "cell_type": "markdown",
   "id": "c55c6704",
   "metadata": {},
   "source": [
    "#### 4. Logistic Regression as a base model for feature selection and leverage its feature importance or coefficient values to rank the features."
   ]
  },
  {
   "cell_type": "code",
   "execution_count": 28,
   "id": "16730f57",
   "metadata": {},
   "outputs": [
    {
     "name": "stdout",
     "output_type": "stream",
     "text": [
      "\n",
      "Feature Importance Based on Logistic Regression Coefficients:\n",
      "ACCLASS_Non-Fatal Injury          0.788433\n",
      "INVTYPE                           0.553548\n",
      "INITDIR                           0.311416\n",
      "INVAGE                            0.274250\n",
      "IMPACTYPE                         0.191973\n",
      "MANOEUVER                         0.175615\n",
      "DRIVACT                           0.171554\n",
      "VISIBILITY                        0.092174\n",
      "DISTRICT_Scarborough              0.087032\n",
      "DRIVCOND                          0.083391\n",
      "ACCLASS_Property Damage O         0.082253\n",
      "ACCLOC                            0.078709\n",
      "ROAD_CLASS                        0.061533\n",
      "DIVISION                          0.059092\n",
      "TRAFFCTL                          0.051553\n",
      "DISTRICT_North York               0.051112\n",
      "DISTRICT_Toronto and East York    0.029915\n",
      "LIGHT                             0.026605\n",
      "RDSFCOND                          0.020709\n",
      "VEHTYPE                           0.012036\n",
      "dtype: float64\n"
     ]
    },
    {
     "data": {
      "image/png": "[encoded data removed]",
      "text/plain": [
       "<Figure size 1200x600 with 1 Axes>"
      ]
     },
     "metadata": {},
     "output_type": "display_data"
    }
   ],
   "source": [
    "# Separate target and features\n",
    "X = df.drop(columns=[\"INJURY\"])  # Features\n",
    "y = df[\"INJURY\"]  # Target\n",
    "\n",
    "# Split data into training and testing sets\n",
    "X_train, X_test, y_train, y_test = train_test_split(X, y, test_size=0.2, random_state=42)\n",
    "\n",
    "# Standardize the data (important for models like Logistic Regression)\n",
    "scaler = StandardScaler()\n",
    "X_train_scaled = scaler.fit_transform(X_train)\n",
    "X_test_scaled = scaler.transform(X_test)\n",
    "\n",
    "# Initialize Logistic Regression model\n",
    "model = LogisticRegression(max_iter=1000)\n",
    "\n",
    "# Train the model\n",
    "model.fit(X_train_scaled, y_train)\n",
    "\n",
    "# Extract feature coefficients (importance) from the model\n",
    "coefficients = pd.Series(model.coef_[0], index=X.columns)\n",
    "\n",
    "# Sort coefficients by their absolute value (higher = more important)\n",
    "sorted_coefficients = coefficients.abs().sort_values(ascending=False)\n",
    "\n",
    "# Display sorted coefficients (importance of features)\n",
    "print(\"\\nFeature Importance Based on Logistic Regression Coefficients:\")\n",
    "print(sorted_coefficients)\n",
    "\n",
    "\n",
    "plt.figure(figsize=(12, 6))\n",
    "sorted_coefficients.plot(kind=\"barh\", title=\"Feature Importance (Logistic Regression)\")\n",
    "plt.xlabel(\"Absolute Coefficient Value\")\n",
    "plt.ylabel(\"Feature Name\")\n",
    "plt.show()"
   ]
  },
  {
   "cell_type": "markdown",
   "id": "da5807bd",
   "metadata": {},
   "source": [
    "Why I Chose Logistic Regression:\n",
    "- It’s straightforward and interpretable for feature selection.\n",
    "- Works well for understanding which features have an impact on a binary target (like predicting an injury).\n",
    "- You can easily visualize and interpret the results."
   ]
  },
  {
   "cell_type": "code",
   "execution_count": 29,
   "id": "b44d6b3d",
   "metadata": {},
   "outputs": [
    {
     "name": "stdout",
     "output_type": "stream",
     "text": [
      "Accuracy: 0.8307\n",
      "Precision: 0.7121\n",
      "Recall: 0.8307\n",
      "F1 Score: 0.7666\n",
      "ROC-AUC: 0.8118\n"
     ]
    }
   ],
   "source": [
    "from sklearn.metrics import accuracy_score, precision_score, recall_score, f1_score, roc_auc_score, confusion_matrix, classification_report\n",
    "\n",
    "# Predict on the test set\n",
    "y_pred = model.predict(X_test_scaled)\n",
    "\n",
    "\n",
    "# Calculate evaluation metrics\n",
    "accuracy = accuracy_score(y_test, y_pred)\n",
    "precision = precision_score(y_test, y_pred, average='weighted', pos_label='Major')  # Assuming 'Major' is the positive class\n",
    "recall = recall_score(y_test, y_pred, average='weighted', pos_label='Major')\n",
    "f1 = f1_score(y_test, y_pred, average='weighted', pos_label='Major')\n",
    "roc_auc = roc_auc_score(y_test, model.predict_proba(X_test_scaled), multi_class='ovr')\n",
    "\n",
    "# Print the evaluation metrics\n",
    "print(f\"Accuracy: {accuracy:.4f}\")\n",
    "print(f\"Precision: {precision:.4f}\")\n",
    "print(f\"Recall: {recall:.4f}\")\n",
    "print(f\"F1 Score: {f1:.4f}\")\n",
    "print(f\"ROC-AUC: {roc_auc:.4f}\")"
   ]
  },
  {
   "cell_type": "code",
   "execution_count": 30,
   "id": "735e8e93",
   "metadata": {},
   "outputs": [
    {
     "data": {
      "text/plain": [
       "INJURY\n",
       "2    15342\n",
       "1     1479\n",
       "0     1160\n",
       "3      976\n",
       "Name: count, dtype: int64"
      ]
     },
     "execution_count": 30,
     "metadata": {},
     "output_type": "execute_result"
    }
   ],
   "source": [
    "df['INJURY'].value_counts()"
   ]
  },
  {
   "cell_type": "markdown",
   "id": "8c68f926",
   "metadata": {},
   "source": [
    "Because we have an unbalanced dataset, accuracy alone is a bad judge of performance. However, the other metrics do not look bad."
   ]
  },
  {
   "cell_type": "markdown",
   "id": "2ead2be8",
   "metadata": {},
   "source": [
    "#### Feature selection"
   ]
  },
  {
   "cell_type": "code",
   "execution_count": 31,
   "id": "8f95675a",
   "metadata": {},
   "outputs": [
    {
     "name": "stdout",
     "output_type": "stream",
     "text": [
      "Columns dropped: ['RDSFCOND', 'VEHTYPE', 'DISTRICT_Toronto and East York', 'DISTRICT_Scarborough', 'TRAFFCTL', 'DIVISION', 'LIGHT', 'ACCLASS_Property Damage O', 'ROAD_CLASS']\n",
      "Remaining columns: Index(['ACCLOC', 'VISIBILITY', 'IMPACTYPE', 'INVTYPE', 'INVAGE', 'INJURY',\n",
      "       'INITDIR', 'MANOEUVER', 'DRIVACT', 'DRIVCOND', 'DISTRICT_North York',\n",
      "       'ACCLASS_Non-Fatal Injury'],\n",
      "      dtype='object')\n"
     ]
    }
   ],
   "source": [
    "# 1. Drop columns with low variance (columns with variance near zero)\n",
    "low_variance_features = ['DIVISION', 'ACCLASS_Property Damage O']  # Columns with very low variance\n",
    "\n",
    "# 2. Drop columns with low mutual information\n",
    "low_mutual_info_features = ['DISTRICT_Scarborough', 'DIVISION', 'ROAD_CLASS']  # Features with low mutual info\n",
    "\n",
    "# 3. Drop columns with low logistic regression coefficients\n",
    "low_lr_coef_features = ['VEHTYPE', 'RDSFCOND', 'DISTRICT_Toronto and East York', 'LIGHT', 'TRAFFCTL']  # Features with small coefficients\n",
    "\n",
    "# Combine all features to drop\n",
    "features_to_drop = list(set(low_variance_features + low_mutual_info_features + low_lr_coef_features))\n",
    "\n",
    "# Drop features from the dataset\n",
    "df_selected = df.drop(columns=features_to_drop)\n",
    "\n",
    "# Check the resulting dataset\n",
    "print(\"Columns dropped:\", features_to_drop)\n",
    "print(\"Remaining columns:\", df_selected.columns)\n"
   ]
  },
  {
   "cell_type": "code",
   "execution_count": 32,
   "id": "e968d437",
   "metadata": {},
   "outputs": [
    {
     "name": "stdout",
     "output_type": "stream",
     "text": [
      "Prediction based on selected columns from feature importance\n",
      "----------------------------------\n",
      "Accuracy: 0.8331\n",
      "Precision: 0.7142\n",
      "Recall: 0.8331\n",
      "F1 Score: 0.7685\n",
      "ROC-AUC: 0.8029\n"
     ]
    }
   ],
   "source": [
    "# Select features and target variable\n",
    "X = df_selected.drop(columns=['INJURY'])  # Drop the target variable\n",
    "y = df_selected['INJURY']  # Target variable\n",
    "\n",
    "# Split the dataset into training and testing sets\n",
    "X_train, X_test, y_train, y_test = train_test_split(X, y, test_size=0.2, random_state=42)\n",
    "\n",
    "# Standardize the features (important for models like Logistic Regression)\n",
    "scaler = StandardScaler()\n",
    "X_train_scaled = scaler.fit_transform(X_train)\n",
    "X_test_scaled = scaler.transform(X_test)\n",
    "\n",
    "# Train a Logistic Regression model\n",
    "model_2 = LogisticRegression(max_iter=1000)\n",
    "model_2.fit(X_train_scaled, y_train)\n",
    "\n",
    "# Make predictions\n",
    "y_pred = model_2.predict(X_test_scaled)\n",
    "\n",
    "# Evaluate the model\n",
    "accuracy = accuracy_score(y_test, y_pred)\n",
    "precision = precision_score(y_test, y_pred, average='weighted', labels=y.unique())\n",
    "recall = recall_score(y_test, y_pred, average='weighted', labels=y.unique())\n",
    "f1 = f1_score(y_test, y_pred, average='weighted', labels=y.unique())\n",
    "roc_auc = roc_auc_score(y_test, model_2.predict_proba(X_test_scaled), multi_class='ovr')\n",
    "\n",
    "# Print the evaluation metrics\n",
    "print(\"Prediction based on selected columns from feature importance\")\n",
    "print(\"----------------------------------\")\n",
    "print(f\"Accuracy: {accuracy:.4f}\")\n",
    "print(f\"Precision: {precision:.4f}\")\n",
    "print(f\"Recall: {recall:.4f}\")\n",
    "print(f\"F1 Score: {f1:.4f}\")\n",
    "print(f\"ROC-AUC: {roc_auc:.4f}\")\n"
   ]
  },
  {
   "cell_type": "code",
   "execution_count": 33,
   "id": "03f6b633",
   "metadata": {},
   "outputs": [],
   "source": [
    "from sklearn.metrics import precision_score"
   ]
  },
  {
   "cell_type": "markdown",
   "id": "e4aac81b",
   "metadata": {},
   "source": [
    "Accuracy (0.8331): The model is correctly classifying 83.31% of the samples. This is a good result, especially in a classification problem where accuracy is often a key metric.\n",
    "\n",
    "Precision (0.7142): Around 71.42% of the instances predicted as positive (e.g., INJURY classes) are correct. This suggests that the model is fairly good at identifying positive instances without too many false positives.\n",
    "\n",
    "Recall (0.8331): The model is able to correctly identify 83.31% of actual positive instances. This is important, especially when the focus is on minimizing false negatives (i.e., missing an injury).\n",
    "\n",
    "F1 Score (0.7685): The harmonic mean of precision and recall. It shows a good balance between precision and recall, meaning your model does a good job of balancing false positives and false negatives.\n",
    "\n",
    "ROC-AUC (0.8029): The model's ability to distinguish between the classes (injury vs. non-injury). A value closer to 1 indicates a better ability to distinguish between classes, and 0.80+ is a good result."
   ]
  },
  {
   "cell_type": "markdown",
   "id": "02b6ab8c",
   "metadata": {},
   "source": [
    "Since we have similar results with the earlier model having 21 features, we will go with the model with smaller number of features. "
   ]
  },
  {
   "cell_type": "markdown",
   "id": "a6332e89",
   "metadata": {},
   "source": [
    "### Random Forest Model"
   ]
  },
  {
   "cell_type": "code",
   "execution_count": 34,
   "id": "00cce544",
   "metadata": {},
   "outputs": [
    {
     "name": "stdout",
     "output_type": "stream",
     "text": [
      "Random Forest Metrics:\n",
      "Accuracy: 0.8246\n",
      "Precision: 0.7760\n",
      "Recall: 0.8246\n",
      "F1 Score: 0.7953\n",
      "ROC-AUC: 0.8144\n"
     ]
    }
   ],
   "source": [
    "# Train Random Forest model\n",
    "rf_model = RandomForestClassifier(n_estimators=100, random_state=42)\n",
    "rf_model.fit(X_train_scaled, y_train)\n",
    "\n",
    "# Predictions\n",
    "rf_y_pred = rf_model.predict(X_test_scaled)\n",
    "\n",
    "# Evaluate\n",
    "print(\"Random Forest Metrics:\")\n",
    "print(f\"Accuracy: {accuracy_score(y_test, rf_y_pred):.4f}\")\n",
    "print(f\"Precision: {precision_score(y_test, rf_y_pred, average='weighted', labels=y.unique()):.4f}\")\n",
    "print(f\"Recall: {recall_score(y_test, rf_y_pred, average='weighted', labels=y.unique()):.4f}\")\n",
    "print(f\"F1 Score: {f1_score(y_test, rf_y_pred, average='weighted', labels=y.unique()):.4f}\")\n",
    "print(f\"ROC-AUC: {roc_auc_score(y_test, rf_model.predict_proba(X_test_scaled), multi_class='ovr'):.4f}\")\n"
   ]
  },
  {
   "cell_type": "markdown",
   "id": "fab172e8",
   "metadata": {},
   "source": [
    "### XGBoost"
   ]
  },
  {
   "cell_type": "code",
   "execution_count": 35,
   "id": "3417cb5d",
   "metadata": {},
   "outputs": [
    {
     "name": "stdout",
     "output_type": "stream",
     "text": [
      "XGBoost Metrics:\n",
      "Accuracy: 0.8415\n",
      "Precision: 0.7746\n",
      "Recall: 0.8415\n",
      "F1 Score: 0.7899\n",
      "ROC-AUC: 0.8545\n"
     ]
    }
   ],
   "source": [
    "# Train XGBoost model\n",
    "xgb_model = xgb.XGBClassifier(use_label_encoder=False, eval_metric='mlogloss', random_state=42)\n",
    "xgb_model.fit(X_train_scaled, y_train)\n",
    "\n",
    "# Predictions\n",
    "xgb_y_pred = xgb_model.predict(X_test_scaled)\n",
    "\n",
    "# Evaluate\n",
    "print(\"XGBoost Metrics:\")\n",
    "print(f\"Accuracy: {accuracy_score(y_test, xgb_y_pred):.4f}\")\n",
    "print(f\"Precision: {precision_score(y_test, xgb_y_pred, average='weighted', labels=y.unique()):.4f}\")\n",
    "print(f\"Recall: {recall_score(y_test, xgb_y_pred, average='weighted', labels=y.unique()):.4f}\")\n",
    "print(f\"F1 Score: {f1_score(y_test, xgb_y_pred, average='weighted', labels=y.unique()):.4f}\")\n",
    "print(f\"ROC-AUC: {roc_auc_score(y_test, xgb_model.predict_proba(X_test_scaled), multi_class='ovr'):.4f}\")\n"
   ]
  },
  {
   "cell_type": "markdown",
   "id": "da362cb7",
   "metadata": {},
   "source": [
    "#### Comparison and Insights:\n",
    "XGBoost performs slightly better than Random Forest in terms of accuracy, recall, and ROC-AUC.\n",
    "\n",
    "Random Forest has a higher precision, but XGBoost has better recall, meaning XGBoost is more effective at identifying positive cases.\n",
    "\n",
    "F1 Score: Both models have strong F1 scores, but XGBoost still outperforms Random Forest, showing a better overall balance."
   ]
  },
  {
   "cell_type": "markdown",
   "id": "a9c5ea9c",
   "metadata": {},
   "source": [
    "### Hyper Parameter Tuning with XGBoost"
   ]
  },
  {
   "cell_type": "code",
   "execution_count": 36,
   "id": "307d6da3",
   "metadata": {},
   "outputs": [
    {
     "name": "stdout",
     "output_type": "stream",
     "text": [
      "Fitting 3 folds for each of 729 candidates, totalling 2187 fits\n",
      "Best Hyperparameters: {'colsample_bytree': 0.8, 'gamma': 0.2, 'learning_rate': 0.2, 'max_depth': 3, 'n_estimators': 50, 'subsample': 0.9}\n",
      "Tuned XGBoost Model Metrics:\n",
      "Accuracy: 0.8455\n",
      "Precision: 0.7516\n",
      "Recall: 0.8455\n",
      "F1 Score: 0.7848\n",
      "ROC-AUC: 0.8625\n"
     ]
    }
   ],
   "source": [
    "# Define the model\n",
    "xgb_model_tuned = xgb.XGBClassifier(use_label_encoder=False, eval_metric='mlogloss', random_state=42)\n",
    "\n",
    "# Define hyperparameters to tune\n",
    "param_grid = {\n",
    "    'n_estimators': [50, 100, 200],  # Number of trees\n",
    "    'max_depth': [3, 5, 7],  # Maximum depth of the tree\n",
    "    'learning_rate': [0.01, 0.1, 0.2],  # Step size shrinking\n",
    "    'subsample': [0.8, 0.9, 1.0],  # Proportion of data used for training\n",
    "    'colsample_bytree': [0.8, 0.9, 1.0],  # Proportion of features used for training\n",
    "    'gamma': [0, 0.1, 0.2]  # Minimum loss reduction required to make a further partition\n",
    "}\n",
    "\n",
    "# Set up GridSearchCV\n",
    "grid_search = GridSearchCV(estimator=xgb_model_tuned, param_grid=param_grid, scoring='accuracy', cv=3, n_jobs=-1, verbose=2)\n",
    "\n",
    "# Fit the model with grid search\n",
    "grid_search.fit(X_train_scaled, y_train)\n",
    "\n",
    "# Best hyperparameters found\n",
    "print(f\"Best Hyperparameters: {grid_search.best_params_}\")\n",
    "\n",
    "# Use the best model to make predictions\n",
    "best_model = grid_search.best_estimator_\n",
    "y_pred = best_model.predict(X_test_scaled)\n",
    "\n",
    "# Evaluate the model\n",
    "print(\"Tuned XGBoost Model Metrics:\")\n",
    "print(f\"Accuracy: {accuracy_score(y_test, y_pred):.4f}\")\n",
    "print(f\"Precision: {precision_score(y_test, y_pred, average='weighted', labels=y.unique()):.4f}\")\n",
    "print(f\"Recall: {recall_score(y_test, y_pred, average='weighted', labels=y.unique()):.4f}\")\n",
    "print(f\"F1 Score: {f1_score(y_test, y_pred, average='weighted', labels=y.unique()):.4f}\")\n",
    "print(f\"ROC-AUC: {roc_auc_score(y_test, best_model.predict_proba(X_test_scaled), multi_class='ovr'):.4f}\")\n"
   ]
  },
  {
   "cell_type": "markdown",
   "id": "69f7e426",
   "metadata": {},
   "source": [
    "### Summary:\n",
    "The improvement in accuracy, recall, and ROC-AUC is minor but positive.\n",
    "\n",
    "Precision and F1 Score have slightly decreased after tuning, indicating that while the model is now identifying slightly more positives (higher recall), it is also misclassifying more positive cases as negatives (lower precision).\n",
    "\n",
    "Overall, the hyperparameter tuning has shown a slight improvement in some metrics but also a slight trade-off in others (precision and F1 score). The decision on whether the improvement is notable depends on which metrics are most important for your use case. If minimizing false positives (precision) is crucial, the untuned model may still be a better choice, whereas if minimizing false negatives (recall) is more critical, the tuned model offers slight gains."
   ]
  },
  {
   "cell_type": "markdown",
   "id": "1f83c7e5",
   "metadata": {},
   "source": [
    "-----------------------------------------------------------------------------\n",
    "Explanation of Evaluation Metrics:\n",
    "Accuracy: Percentage of correct predictions. It's useful when the class distribution is balanced.\n",
    "\n",
    "accuracy = (TP + TN) / (TP + TN + FP + FN) (in our case we are not using accuracy to judge the better model becuase we have an inbalanced data set ie. we dont have the same number of categories in target.)\n",
    "\n",
    "Precision: Proportion of true positives out of all predicted positives. It tells you how many of the predicted positives are actually correct.\n",
    "\n",
    "precision = TP / (TP + FP).\n",
    "\n",
    "Recall: Proportion of true positives out of all actual positives. It tells you how many of the actual positives you predicted correctly.\n",
    "\n",
    "recall = TP / (TP + FN).\n",
    "\n",
    "F1 Score: Harmonic mean of precision and recall. It's useful when you need a balance between precision and recall.\n",
    "\n",
    "f1 = 2 * (precision * recall) / (precision + recall)\n",
    "\n",
    "ROC-AUC: Area under the Receiver Operating Characteristic curve. It measures the model's ability to distinguish between classes. The higher the AUC, the better the model.\n",
    "\n",
    "AUC ranges from 0 to 1, where 1 is perfect and 0.5 is no better than random guessing."
   ]
  },
  {
   "cell_type": "markdown",
   "id": "40c68c42",
   "metadata": {},
   "source": [
    "#USING RANDOM FOREST"
   ]
  },
  {
   "cell_type": "code",
   "execution_count": null,
   "id": "bd35a3c5",
   "metadata": {},
   "outputs": [],
   "source": [
    "df"
   ]
  },
  {
   "cell_type": "code",
   "execution_count": 38,
   "id": "528f67aa",
   "metadata": {},
   "outputs": [
    {
     "name": "stdout",
     "output_type": "stream",
     "text": [
      "INVAGE                            0.170796\n",
      "ACCLASS_Non-Fatal Injury          0.118518\n",
      "DIVISION                          0.101954\n",
      "IMPACTYPE                         0.094422\n",
      "INVTYPE                           0.082407\n",
      "LIGHT                             0.054300\n",
      "INITDIR                           0.052757\n",
      "TRAFFCTL                          0.041434\n",
      "ROAD_CLASS                        0.035888\n",
      "DRIVACT                           0.035639\n",
      "VEHTYPE                           0.034392\n",
      "ACCLOC                            0.031728\n",
      "DRIVCOND                          0.027633\n",
      "MANOEUVER                         0.026979\n",
      "RDSFCOND                          0.025114\n",
      "VISIBILITY                        0.017053\n",
      "DISTRICT_North York               0.016895\n",
      "DISTRICT_Scarborough              0.016264\n",
      "DISTRICT_Toronto and East York    0.015188\n",
      "ACCLASS_Property Damage O         0.000640\n",
      "dtype: float64\n"
     ]
    }
   ],
   "source": [
    "import pandas as pd\n",
    "from sklearn.ensemble import RandomForestClassifier\n",
    "from sklearn.model_selection import train_test_split\n",
    "\n",
    "# Separate features (X) and target variable (y)\n",
    "X = df.drop(columns=[\"INJURY\"])  # Features\n",
    "y = df[\"INJURY\"]  # Target variable\n",
    "\n",
    "# Split the data into training and test sets\n",
    "X_train, X_test, y_train, y_test = train_test_split(X, y, test_size=0.2, random_state=42)\n",
    "\n",
    "\n",
    "# Train a Random Forest model\n",
    "rf = RandomForestClassifier(n_estimators=100, random_state=42)\n",
    "rf.fit(X_train, y_train)\n",
    "\n",
    "# Get feature importances\n",
    "feature_importances = pd.Series(rf.feature_importances_, index=X.columns)\n",
    "\n",
    "# Sort features by importance\n",
    "selected_features = feature_importances.sort_values(ascending=False)\n",
    "\n",
    "# Display the top 20 most important features\n",
    "print(selected_features.head(20))\n"
   ]
  },
  {
   "cell_type": "code",
   "execution_count": 39,
   "id": "5ebeb383",
   "metadata": {},
   "outputs": [],
   "source": [
    "# pip install openpyxl"
   ]
  },
  {
   "cell_type": "code",
   "execution_count": 40,
   "id": "ca7a9a4b",
   "metadata": {},
   "outputs": [
    {
     "data": {
      "image/png": "[encoded data removed]",
      "text/plain": [
       "<Figure size 1200x600 with 1 Axes>"
      ]
     },
     "metadata": {},
     "output_type": "display_data"
    }
   ],
   "source": [
    "plt.figure(figsize=(12, 6))\n",
    "selected_features.sort_values(ascending=True).plot(kind=\"barh\", title=\"Feature Importance (RandomForestClassifier)\")\n",
    "plt.xlabel(\"Absolute Coefficient Value\")\n",
    "plt.ylabel(\"Feature Name\")\n",
    "plt.show()"
   ]
  },
  {
   "cell_type": "code",
   "execution_count": 41,
   "id": "0a800f42",
   "metadata": {},
   "outputs": [
    {
     "data": {
      "text/plain": [
       "INVAGE                      0.170796\n",
       "ACCLASS_Non-Fatal Injury    0.118518\n",
       "DIVISION                    0.101954\n",
       "IMPACTYPE                   0.094422\n",
       "INVTYPE                     0.082407\n",
       "LIGHT                       0.054300\n",
       "INITDIR                     0.052757\n",
       "TRAFFCTL                    0.041434\n",
       "ROAD_CLASS                  0.035888\n",
       "DRIVACT                     0.035639\n",
       "dtype: float64"
      ]
     },
     "execution_count": 41,
     "metadata": {},
     "output_type": "execute_result"
    }
   ],
   "source": [
    "selected_features.head(10)"
   ]
  },
  {
   "cell_type": "code",
   "execution_count": null,
   "id": "60bd625b",
   "metadata": {},
   "outputs": [
    {
     "name": "stdout",
     "output_type": "stream",
     "text": [
      "Accuracy: 0.8331\n",
      "Precision: 0.7884\n",
      "Recall: 0.8331\n",
      "F1 Score: 0.8038\n"
     ]
    }
   ],
   "source": [
    "import pandas as pd\n",
    "from sklearn.ensemble import RandomForestClassifier\n",
    "from sklearn.model_selection import train_test_split\n",
    "from sklearn.metrics import accuracy_score, precision_score, recall_score, f1_score\n",
    "\n",
    "\n",
    "# Selecting top features based on feature importance\n",
    "selected_features = [\n",
    "    \n",
    "    \"INVAGE\", \"ACCLASS_Non-Fatal Injury\", \"DIVISION\", \"IMPACTYPE\",\n",
    "     \"INVTYPE\",   \"LIGHT\", \"INITDIR\", \"TRAFFCTL\", \"ROAD_CLASS\", \"DRIVACT\"\n",
    "]\n",
    "\n",
    "# Define features and target variable\n",
    "X = df[selected_features]\n",
    "y = df[\"INJURY\"]\n",
    "\n",
    "# Split the dataset into training (80%) and testing (20%) sets\n",
    "X_train, X_test, y_train, y_test = train_test_split(X, y, test_size=0.2, random_state=42)\n",
    "\n",
    "# Train the Random Forest model\n",
    "rf_model = RandomForestClassifier(n_estimators=100, random_state=42)\n",
    "rf_model.fit(X_train, y_train)\n",
    "\n",
    "# Make predictions\n",
    "y_pred = rf_model.predict(X_test)\n",
    "\n",
    "# Evaluate the model\n",
    "accuracy = accuracy_score(y_test, y_pred)\n",
    "precision = precision_score(y_test, y_pred, average=\"weighted\")\n",
    "recall = recall_score(y_test, y_pred, average=\"weighted\")\n",
    "f1 = f1_score(y_test, y_pred, average=\"weighted\")\n",
    "\n",
    "# Print evaluation metrics\n",
    "print(f\"Accuracy: {accuracy:.4f}\")\n",
    "print(f\"Precision: {precision:.4f}\")\n",
    "print(f\"Recall: {recall:.4f}\")\n",
    "print(f\"F1 Score: {f1:.4f}\")\n"
   ]
  }
 ],
 "metadata": {
  "kernelspec": {
   "display_name": "Python 3",
   "language": "python",
   "name": "python3"
  },
  "language_info": {
   "codemirror_mode": {
    "name": "ipython",
    "version": 3
   },
   "file_extension": ".py",
   "mimetype": "text/x-python",
   "name": "python",
   "nbconvert_exporter": "python",
   "pygments_lexer": "ipython3",
   "version": "3.12.1"
  }
 },
 "nbformat": 4,
 "nbformat_minor": 5
}
